{
 "cells": [
  {
   "cell_type": "code",
   "execution_count": null,
   "id": "7a1329ec",
   "metadata": {},
   "outputs": [],
   "source": [
    "!pip install import-ipynb"
   ]
  },
  {
   "cell_type": "markdown",
   "id": "df56e792",
   "metadata": {},
   "source": [
    "Importação das váriveis pré tranformadas"
   ]
  },
  {
   "cell_type": "code",
   "execution_count": 9,
   "id": "e331b0b3",
   "metadata": {},
   "outputs": [],
   "source": [
    "import seaborn as sns \n",
    "import matplotlib_inline as plt\n",
    "import import_ipynb\n",
    "from carregar import df_poluicao_osasco, df_sintomas_osasco"
   ]
  },
  {
   "cell_type": "code",
   "execution_count": 10,
   "id": "63fb4f48",
   "metadata": {},
   "outputs": [
    {
     "name": "stdout",
     "output_type": "stream",
     "text": [
      "Dados de Poluição:           date  pm25  pm10  o3  no2  so2  co\n",
      "431 2024-01-01    33    20        7    1   2\n",
      "261 2024-01-02    54    18       12        3\n",
      "262 2024-01-03    54    19       12        4\n",
      "263 2024-01-04    37    10        7        3\n",
      "264 2024-01-05    20    13       10        4\n",
      "Dados de sintomas:       DT_NOTIFIC  FEBRE  TOSSE  GARGANTA  DISPNEIA  DESC_RESP  SATURACAO  \\\n",
      "872   25/09/2024    2.0    2.0       2.0       1.0        1.0        1.0   \n",
      "1231  11/07/2024    2.0    1.0       2.0       2.0        1.0        2.0   \n",
      "1495  22/09/2024    1.0    2.0       2.0       1.0        1.0        1.0   \n",
      "1497  22/08/2024    1.0    1.0       2.0       2.0        1.0        2.0   \n",
      "2191  23/05/2024    2.0    1.0       2.0       1.0        2.0        2.0   \n",
      "\n",
      "      DIARREIA  VOMITO  DOR_ABD  FADIGA  PERD_OLFT  PERD_PALA  OUTRO_SIN  \\\n",
      "872        2.0     2.0      2.0     2.0        2.0        2.0        2.0   \n",
      "1231       2.0     2.0      2.0     2.0        2.0        2.0        1.0   \n",
      "1495       2.0     2.0      2.0     2.0        2.0        2.0        2.0   \n",
      "1497       2.0     2.0      2.0     2.0        2.0        2.0        2.0   \n",
      "2191       2.0     2.0      2.0     2.0        2.0        2.0        2.0   \n",
      "\n",
      "     OUTRO_DES  \n",
      "872        NaN  \n",
      "1231       NaN  \n",
      "1495       NaN  \n",
      "1497       NaN  \n",
      "2191       NaN  \n"
     ]
    }
   ],
   "source": [
    "print('Dados de Poluição:',df_poluicao_osasco.head())\n",
    "print('Dados de sintomas:',df_sintomas_osasco.head())"
   ]
  }
 ],
 "metadata": {
  "kernelspec": {
   "display_name": "Python 3",
   "language": "python",
   "name": "python3"
  },
  "language_info": {
   "codemirror_mode": {
    "name": "ipython",
    "version": 3
   },
   "file_extension": ".py",
   "mimetype": "text/x-python",
   "name": "python",
   "nbconvert_exporter": "python",
   "pygments_lexer": "ipython3",
   "version": "3.12.9"
  }
 },
 "nbformat": 4,
 "nbformat_minor": 5
}
